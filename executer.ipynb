{
 "cells": [
  {
   "cell_type": "code",
   "execution_count": 1,
   "id": "6af6a252",
   "metadata": {},
   "outputs": [],
   "source": [
    "import sys"
   ]
  },
  {
   "cell_type": "code",
   "execution_count": 3,
   "id": "a6d0e5cb",
   "metadata": {},
   "outputs": [
    {
     "name": "stderr",
     "output_type": "stream",
     "text": [
      "\u001b[33mWARNING: Skipping fma_prep as it is not installed.\u001b[0m\u001b[33m\n",
      "\u001b[0m\n",
      "\u001b[1m[\u001b[0m\u001b[34;49mnotice\u001b[0m\u001b[1;39;49m]\u001b[0m\u001b[39;49m A new release of pip is available: \u001b[0m\u001b[31;49m24.0\u001b[0m\u001b[39;49m -> \u001b[0m\u001b[32;49m24.2\u001b[0m\n",
      "\u001b[1m[\u001b[0m\u001b[34;49mnotice\u001b[0m\u001b[1;39;49m]\u001b[0m\u001b[39;49m To update, run: \u001b[0m\u001b[32;49mpip install --upgrade pip\u001b[0m\n"
     ]
    }
   ],
   "source": [
    "%%bash\n",
    "\n",
    "pip uninstall fma_prep -y\n",
    "pip install --no-cache-dir . > /dev/null"
   ]
  },
  {
   "cell_type": "code",
   "execution_count": 2,
   "id": "afbdfa23",
   "metadata": {},
   "outputs": [
    {
     "name": "stderr",
     "output_type": "stream",
     "text": [
      "2024-09-11 10:59:08.673166: E external/local_xla/xla/stream_executor/cuda/cuda_fft.cc:485] Unable to register cuFFT factory: Attempting to register factory for plugin cuFFT when one has already been registered\n",
      "2024-09-11 10:59:08.687521: E external/local_xla/xla/stream_executor/cuda/cuda_dnn.cc:8454] Unable to register cuDNN factory: Attempting to register factory for plugin cuDNN when one has already been registered\n",
      "2024-09-11 10:59:08.691865: E external/local_xla/xla/stream_executor/cuda/cuda_blas.cc:1452] Unable to register cuBLAS factory: Attempting to register factory for plugin cuBLAS when one has already been registered\n",
      "2024-09-11 10:59:08.702608: I tensorflow/core/platform/cpu_feature_guard.cc:210] This TensorFlow binary is optimized to use available CPU instructions in performance-critical operations.\n",
      "To enable the following instructions: AVX2 AVX512F FMA, in other operations, rebuild TensorFlow with the appropriate compiler flags.\n",
      "2024-09-11 10:59:09.583436: W tensorflow/compiler/tf2tensorrt/utils/py_utils.cc:38] TF-TRT Warning: Could not find TensorRT\n"
     ]
    }
   ],
   "source": [
    "from fma_prep import run\n"
   ]
  },
  {
   "cell_type": "code",
   "execution_count": 6,
   "id": "d11a7a87",
   "metadata": {},
   "outputs": [],
   "source": [
    "# Defina os argumentos como se fossem passados pela linha de comando\n",
    "sys.argv = [\n",
    "    'fma_prep.py',  # Nome do script (pode ser qualquer string)\n",
    "    '--input_path', '/home/bruno/storage/data/fma/fma-large-by-effnet-discogs',\n",
    "    '--output_path', '/home/bruno/storage/data/fma',\n",
    "    '--top_genres', 'Rock', 'Electronic', \n",
    "    '--sequence_size', '1280',\n",
    "    '--train_id', 'rock_electronic',\n",
    "    '--sample_size', '1'\n",
    "]"
   ]
  },
  {
   "cell_type": "code",
   "execution_count": 7,
   "id": "a9ea9fee",
   "metadata": {},
   "outputs": [
    {
     "name": "stdout",
     "output_type": "stream",
     "text": [
      "Prepraring paths.\n",
      "Using top genres list. ['Rock', 'Electronic']\n",
      "Crerating labels structures.\n",
      "Spliting dataset in train/test/val.\n"
     ]
    },
    {
     "name": "stderr",
     "output_type": "stream",
     "text": [
      "100%|██████████| 258/258 [00:00<00:00, 1906.61it/s]\n",
      "2024-09-11 11:08:14.495179: I tensorflow/core/framework/local_rendezvous.cc:404] Local rendezvous is aborting with status: OUT_OF_RANGE: End of sequence\n"
     ]
    },
    {
     "name": "stdout",
     "output_type": "stream",
     "text": [
      "0 2006 /home/bruno/storage/data/fma/trains/rock_electronic/tfrecrods/val/0000000000.tfrecord\n",
      "1/1 batchs / 51200 processed\n",
      "1/1 batchs / 2006 processed\n",
      "0 4814 /home/bruno/storage/data/fma/trains/rock_electronic/tfrecrods/test/0000000000.tfrecord\n",
      "1/1 batchs / 51200 processed\n",
      "1/1 batchs / 4814 processed\n",
      "0 18209 /home/bruno/storage/data/fma/trains/rock_electronic/tfrecrods/train/0000000000.tfrecord\n",
      "1/1 batchs / 51200 processed\n",
      "1/1 batchs / 18209 processed\n",
      "0 2006 /home/bruno/storage/data/fma/trains/rock_electronic/torch/val/0000000000.pt\n",
      "1/1 batches / 51200 processed\n",
      "1/1 batches / 2006 processed\n",
      "0 4814 /home/bruno/storage/data/fma/trains/rock_electronic/torch/test/0000000000.pt\n",
      "1/1 batches / 51200 processed\n",
      "1/1 batches / 4814 processed\n",
      "0 18209 /home/bruno/storage/data/fma/trains/rock_electronic/torch/train/0000000000.pt\n",
      "1/1 batches / 51200 processed\n",
      "1/1 batches / 18209 processed\n"
     ]
    }
   ],
   "source": [
    "# Chama a função run() com os argumentos definidos\n",
    "run()"
   ]
  },
  {
   "cell_type": "code",
   "execution_count": null,
   "id": "027faf31",
   "metadata": {},
   "outputs": [],
   "source": []
  }
 ],
 "metadata": {
  "kernelspec": {
   "display_name": "Python 3 (ipykernel)",
   "language": "python",
   "name": "python3"
  },
  "language_info": {
   "codemirror_mode": {
    "name": "ipython",
    "version": 3
   },
   "file_extension": ".py",
   "mimetype": "text/x-python",
   "name": "python",
   "nbconvert_exporter": "python",
   "pygments_lexer": "ipython3",
   "version": "3.11.9"
  }
 },
 "nbformat": 4,
 "nbformat_minor": 5
}
