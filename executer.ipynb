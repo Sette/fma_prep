{
 "cells": [
  {
   "cell_type": "code",
   "execution_count": 1,
   "id": "6af6a252",
   "metadata": {},
   "outputs": [],
   "source": [
    "import sys"
   ]
  },
  {
   "cell_type": "code",
   "execution_count": 2,
   "id": "a6d0e5cb",
   "metadata": {},
   "outputs": [],
   "source": [
    "%%bash\n",
    "\n",
    "#pip uninstall fma_prep -y\n",
    "#pip install --no-cache-dir . > /dev/null"
   ]
  },
  {
   "cell_type": "code",
   "execution_count": 3,
   "id": "afbdfa23",
   "metadata": {},
   "outputs": [
    {
     "name": "stderr",
     "output_type": "stream",
     "text": [
      "2024-12-11 08:16:27.692986: I tensorflow/core/platform/cpu_feature_guard.cc:210] This TensorFlow binary is optimized to use available CPU instructions in performance-critical operations.\n",
      "To enable the following instructions: AVX2 FMA, in other operations, rebuild TensorFlow with the appropriate compiler flags.\n",
      "2024-12-11 08:16:32.837165: W tensorflow/compiler/tf2tensorrt/utils/py_utils.cc:38] TF-TRT Warning: Could not find TensorRT\n"
     ]
    }
   ],
   "source": [
    "from fma_prep import run\n"
   ]
  },
  {
   "cell_type": "code",
   "execution_count": 4,
   "id": "d11a7a87",
   "metadata": {},
   "outputs": [],
   "source": [
    "# Defina os argumentos como se fossem passados pela linha de comando\n",
    "sys.argv = [\n",
    "    'fma_prep.py',  # Nome do script (pode ser qualquer string)\n",
    "    '--input_path', '/mnt/c/Users/bruno/storage/datasets/FMA',\n",
    "    '--output_path', '/mnt/c/Users/bruno/storage/datasets/FMA',\n",
    "    '--top_genres', 'Rock', 'Electronic', \n",
    "    '--sequence_size', '1280',\n",
    "    '--train_id', 'rock_electronic',\n",
    "    '--sample_size', '0.1'\n",
    "]"
   ]
  },
  {
   "cell_type": "code",
   "execution_count": null,
   "id": "a9ea9fee",
   "metadata": {},
   "outputs": [
    {
     "name": "stdout",
     "output_type": "stream",
     "text": [
      "Prepraring paths.\n",
      "Using top genres list. ['Rock', 'Electronic']\n",
      "Creating labels structures.\n",
      "Binarizing labels structures.\n",
      "Spliting dataset in train/test/val.\n"
     ]
    },
    {
     "name": "stderr",
     "output_type": "stream",
     "text": [
      "100%|████████████████████████████████████████| 259/259 [00:00<00:00, 687.25it/s]\n",
      "2024-12-11 08:16:51.810194: I external/local_xla/xla/stream_executor/cuda/cuda_executor.cc:984] could not open file to read NUMA node: /sys/bus/pci/devices/0000:01:00.0/numa_node\n",
      "Your kernel may have been built without NUMA support.\n",
      "2024-12-11 08:16:51.811543: W tensorflow/core/common_runtime/gpu/gpu_device.cc:2251] Cannot dlopen some GPU libraries. Please make sure the missing libraries mentioned above are installed properly if you would like to use GPU. Follow the guide at https://www.tensorflow.org/install/gpu for how to download and setup the required libraries for your platform.\n",
      "Skipping registering GPU devices...\n"
     ]
    }
   ],
   "source": [
    "# Chama a função run() com os argumentos definidos\n",
    "categories_df = run()"
   ]
  },
  {
   "cell_type": "code",
   "execution_count": null,
   "id": "383443ad-6bff-499a-82c0-5e7c810a240d",
   "metadata": {},
   "outputs": [],
   "source": [
    "sample_df = categories_df.sample(frac=1/10)"
   ]
  },
  {
   "cell_type": "code",
   "execution_count": null,
   "id": "ff483579-8862-43e8-85bf-a0294dd99c3b",
   "metadata": {},
   "outputs": [],
   "source": [
    "sample_df"
   ]
  },
  {
   "cell_type": "code",
   "execution_count": null,
   "id": "ddea57ea-f058-4264-b018-3ca5910d5c0e",
   "metadata": {},
   "outputs": [],
   "source": [
    "sample_df.y_true.values"
   ]
  },
  {
   "cell_type": "code",
   "execution_count": null,
   "id": "aa1961e1-a5a2-40dc-a336-9f094352d451",
   "metadata": {},
   "outputs": [],
   "source": []
  },
  {
   "cell_type": "code",
   "execution_count": null,
   "id": "c340c1a8-dd57-43d9-be88-005dfb9c4e26",
   "metadata": {},
   "outputs": [],
   "source": []
  }
 ],
 "metadata": {
  "kernelspec": {
   "display_name": "Python 3 (ipykernel)",
   "language": "python",
   "name": "python3"
  },
  "language_info": {
   "codemirror_mode": {
    "name": "ipython",
    "version": 3
   },
   "file_extension": ".py",
   "mimetype": "text/x-python",
   "name": "python",
   "nbconvert_exporter": "python",
   "pygments_lexer": "ipython3",
   "version": "3.11.9"
  }
 },
 "nbformat": 4,
 "nbformat_minor": 5
}
