{
 "cells": [
  {
   "cell_type": "code",
   "execution_count": 1,
   "id": "99663143-68cf-42f8-afcd-06a5a6c20918",
   "metadata": {
    "scrolled": true
   },
   "outputs": [
    {
     "name": "stderr",
     "output_type": "stream",
     "text": [
      "2024-04-27 12:06:45.701824: I tensorflow/core/platform/cpu_feature_guard.cc:210] This TensorFlow binary is optimized to use available CPU instructions in performance-critical operations.\n",
      "To enable the following instructions: AVX2 AVX512F FMA, in other operations, rebuild TensorFlow with the appropriate compiler flags.\n",
      "2024-04-27 12:06:46.355247: W tensorflow/compiler/tf2tensorrt/utils/py_utils.cc:38] TF-TRT Warning: Could not find TensorRT\n"
     ]
    }
   ],
   "source": [
    "from preprocessing.prep import prepare_paths, prepare_labels, remover_sublistas_redundantes, split_dataset"
   ]
  },
  {
   "cell_type": "code",
   "execution_count": 2,
   "id": "252d5151-3c2a-47b4-8d1f-ea3c072974b0",
   "metadata": {},
   "outputs": [],
   "source": [
    "from dataset.dataset import __split_data__"
   ]
  },
  {
   "cell_type": "code",
   "execution_count": 3,
   "id": "e8a4e80e-1d8a-42cd-8d40-9a00344de020",
   "metadata": {},
   "outputs": [],
   "source": [
    "import pandas as pd"
   ]
  },
  {
   "cell_type": "code",
   "execution_count": 4,
   "id": "972883f1-794f-4b1c-a235-da0f481b7db5",
   "metadata": {},
   "outputs": [],
   "source": [
    "import os\n",
    "import json\n",
    "from tqdm import tqdm"
   ]
  },
  {
   "cell_type": "code",
   "execution_count": 5,
   "id": "2ecc8d23-baac-4625-9ae2-eadea8ccf4bf",
   "metadata": {
    "is_executing": true
   },
   "outputs": [],
   "source": [
    "\n",
    "args = pd.Series({\n",
    "    \"root_dir\": \"/mnt/disks/data/\",\n",
    "    \"dataset_path\": \"/mnt/disks/data/fma/fma_large\", \n",
    "    \"embeddings\": \"music_style\",\n",
    "    \"sequence_size\": 1280,\n",
    "    \"train_id\": \"hierarchical_hiclass_tworoots\",\n",
    "    'sample_size': 1\n",
    "})\n",
    "\n"
   ]
  },
  {
   "cell_type": "code",
   "execution_count": 56,
   "id": "e06c2b67-e32a-4ee1-920f-27066a847980",
   "metadata": {},
   "outputs": [],
   "source": [
    "args, tracks_df = prepare_paths(args)"
   ]
  },
  {
   "cell_type": "code",
   "execution_count": 58,
   "id": "0b1ed249-b1f9-45f8-98d3-452f92a7a7e3",
   "metadata": {
    "scrolled": true
   },
   "outputs": [
    {
     "data": {
      "text/plain": [
       "track_genre_top\n",
       "Rock                   14172\n",
       "Experimental           10603\n",
       "Electronic              9358\n",
       "Hip-Hop                 3546\n",
       "Folk                    2801\n",
       "Pop                     2331\n",
       "Instrumental            2077\n",
       "International           1375\n",
       "Classical               1230\n",
       "Jazz                     571\n",
       "Old-Time / Historic      549\n",
       "Spoken                   421\n",
       "Country                  194\n",
       "Soul-RnB                 175\n",
       "Blues                    110\n",
       "Easy Listening            24\n",
       "Name: count, dtype: int64"
      ]
     },
     "execution_count": 58,
     "metadata": {},
     "output_type": "execute_result"
    }
   ],
   "source": [
    "tracks_df.track_genre_top.value_counts()"
   ]
  },
  {
   "cell_type": "code",
   "execution_count": 61,
   "id": "5730a294-521f-45db-9b63-65b88b96e67a",
   "metadata": {},
   "outputs": [],
   "source": [
    "tracks_df = tracks_df[tracks_df['track_genre_top'].isin(['Rock','Electronic'])]"
   ]
  },
  {
   "cell_type": "code",
   "execution_count": 62,
   "id": "cca23842-5055-4bb6-89ee-28583441c68f",
   "metadata": {},
   "outputs": [
    {
     "data": {
      "text/html": [
       "<div>\n",
       "<style scoped>\n",
       "    .dataframe tbody tr th:only-of-type {\n",
       "        vertical-align: middle;\n",
       "    }\n",
       "\n",
       "    .dataframe tbody tr th {\n",
       "        vertical-align: top;\n",
       "    }\n",
       "\n",
       "    .dataframe thead th {\n",
       "        text-align: right;\n",
       "    }\n",
       "</style>\n",
       "<table border=\"1\" class=\"dataframe\">\n",
       "  <thead>\n",
       "    <tr style=\"text-align: right;\">\n",
       "      <th></th>\n",
       "      <th>track_genres_all</th>\n",
       "      <th>track_id</th>\n",
       "      <th>file_path</th>\n",
       "      <th>index</th>\n",
       "      <th>track_genre_top</th>\n",
       "    </tr>\n",
       "  </thead>\n",
       "  <tbody>\n",
       "    <tr>\n",
       "      <th>39284</th>\n",
       "      <td>[12]</td>\n",
       "      <td>59906</td>\n",
       "      <td>/mnt/disks/data/fma/fma_large/059/059906.mp3</td>\n",
       "      <td>40162</td>\n",
       "      <td>Rock</td>\n",
       "    </tr>\n",
       "    <tr>\n",
       "      <th>54258</th>\n",
       "      <td>[337, 183, 236, 15]</td>\n",
       "      <td>82335</td>\n",
       "      <td>/mnt/disks/data/fma/fma_large/082/082335.mp3</td>\n",
       "      <td>55652</td>\n",
       "      <td>Electronic</td>\n",
       "    </tr>\n",
       "    <tr>\n",
       "      <th>75140</th>\n",
       "      <td>[296, 468, 15]</td>\n",
       "      <td>115722</td>\n",
       "      <td>/mnt/disks/data/fma/fma_large/115/115722.mp3</td>\n",
       "      <td>77001</td>\n",
       "      <td>Electronic</td>\n",
       "    </tr>\n",
       "    <tr>\n",
       "      <th>18607</th>\n",
       "      <td>[12, 85]</td>\n",
       "      <td>30163</td>\n",
       "      <td>/mnt/disks/data/fma/fma_large/030/030163.mp3</td>\n",
       "      <td>19001</td>\n",
       "      <td>Rock</td>\n",
       "    </tr>\n",
       "    <tr>\n",
       "      <th>30958</th>\n",
       "      <td>[98, 12]</td>\n",
       "      <td>47945</td>\n",
       "      <td>/mnt/disks/data/fma/fma_large/047/047945.mp3</td>\n",
       "      <td>31623</td>\n",
       "      <td>Rock</td>\n",
       "    </tr>\n",
       "    <tr>\n",
       "      <th>...</th>\n",
       "      <td>...</td>\n",
       "      <td>...</td>\n",
       "      <td>...</td>\n",
       "      <td>...</td>\n",
       "      <td>...</td>\n",
       "    </tr>\n",
       "    <tr>\n",
       "      <th>85336</th>\n",
       "      <td>[26, 12]</td>\n",
       "      <td>129341</td>\n",
       "      <td>/mnt/disks/data/fma/fma_large/129/129341.mp3</td>\n",
       "      <td>87381</td>\n",
       "      <td>Rock</td>\n",
       "    </tr>\n",
       "    <tr>\n",
       "      <th>35908</th>\n",
       "      <td>[240, 297, 15]</td>\n",
       "      <td>55161</td>\n",
       "      <td>/mnt/disks/data/fma/fma_large/055/055161.mp3</td>\n",
       "      <td>36662</td>\n",
       "      <td>Electronic</td>\n",
       "    </tr>\n",
       "    <tr>\n",
       "      <th>3624</th>\n",
       "      <td>[15]</td>\n",
       "      <td>7011</td>\n",
       "      <td>/mnt/disks/data/fma/fma_large/007/007011.mp3</td>\n",
       "      <td>3647</td>\n",
       "      <td>Electronic</td>\n",
       "    </tr>\n",
       "    <tr>\n",
       "      <th>91676</th>\n",
       "      <td>[101, 167, 12, 45, 109, 53, 25, 31]</td>\n",
       "      <td>137630</td>\n",
       "      <td>/mnt/disks/data/fma/fma_large/137/137630.mp3</td>\n",
       "      <td>93849</td>\n",
       "      <td>Rock</td>\n",
       "    </tr>\n",
       "    <tr>\n",
       "      <th>8713</th>\n",
       "      <td>[181, 15]</td>\n",
       "      <td>14824</td>\n",
       "      <td>/mnt/disks/data/fma/fma_large/014/014824.mp3</td>\n",
       "      <td>8851</td>\n",
       "      <td>Electronic</td>\n",
       "    </tr>\n",
       "  </tbody>\n",
       "</table>\n",
       "<p>23530 rows × 5 columns</p>\n",
       "</div>"
      ],
      "text/plain": [
       "                          track_genres_all  track_id  \\\n",
       "39284                                 [12]     59906   \n",
       "54258                  [337, 183, 236, 15]     82335   \n",
       "75140                       [296, 468, 15]    115722   \n",
       "18607                             [12, 85]     30163   \n",
       "30958                             [98, 12]     47945   \n",
       "...                                    ...       ...   \n",
       "85336                             [26, 12]    129341   \n",
       "35908                       [240, 297, 15]     55161   \n",
       "3624                                  [15]      7011   \n",
       "91676  [101, 167, 12, 45, 109, 53, 25, 31]    137630   \n",
       "8713                             [181, 15]     14824   \n",
       "\n",
       "                                          file_path  index track_genre_top  \n",
       "39284  /mnt/disks/data/fma/fma_large/059/059906.mp3  40162            Rock  \n",
       "54258  /mnt/disks/data/fma/fma_large/082/082335.mp3  55652      Electronic  \n",
       "75140  /mnt/disks/data/fma/fma_large/115/115722.mp3  77001      Electronic  \n",
       "18607  /mnt/disks/data/fma/fma_large/030/030163.mp3  19001            Rock  \n",
       "30958  /mnt/disks/data/fma/fma_large/047/047945.mp3  31623            Rock  \n",
       "...                                             ...    ...             ...  \n",
       "85336  /mnt/disks/data/fma/fma_large/129/129341.mp3  87381            Rock  \n",
       "35908  /mnt/disks/data/fma/fma_large/055/055161.mp3  36662      Electronic  \n",
       "3624   /mnt/disks/data/fma/fma_large/007/007011.mp3   3647      Electronic  \n",
       "91676  /mnt/disks/data/fma/fma_large/137/137630.mp3  93849            Rock  \n",
       "8713   /mnt/disks/data/fma/fma_large/014/014824.mp3   8851      Electronic  \n",
       "\n",
       "[23530 rows x 5 columns]"
      ]
     },
     "execution_count": 62,
     "metadata": {},
     "output_type": "execute_result"
    }
   ],
   "source": [
    "tracks_df"
   ]
  },
  {
   "cell_type": "code",
   "execution_count": 63,
   "id": "89d453d9-f5a2-4a0e-b160-742d11c1580d",
   "metadata": {},
   "outputs": [
    {
     "name": "stdout",
     "output_type": "stream",
     "text": [
      "max depth: 4\n"
     ]
    },
    {
     "name": "stderr",
     "output_type": "stream",
     "text": [
      "/home/bruno/git/fma_prep/preprocessing/prep.py:97: SettingWithCopyWarning: \n",
      "A value is trying to be set on a copy of a slice from a DataFrame.\n",
      "Try using .loc[row_indexer,col_indexer] = value instead\n",
      "\n",
      "See the caveats in the documentation: https://pandas.pydata.org/pandas-docs/stable/user_guide/indexing.html#returning-a-view-versus-a-copy\n",
      "  tracks_df['full_genre_id'] = estruturas\n"
     ]
    },
    {
     "data": {
      "application/vnd.jupyter.widget-view+json": {
       "model_id": "4deed0ad85134faa924e2705a5aac0b9",
       "version_major": 2,
       "version_minor": 0
      },
      "text/plain": [
       "0it [00:00, ?it/s]"
      ]
     },
     "metadata": {},
     "output_type": "display_data"
    }
   ],
   "source": [
    "tracks_df, args = prepare_labels(tracks_df,args)"
   ]
  },
  {
   "cell_type": "code",
   "execution_count": 64,
   "id": "f19825db-a1c3-4eb0-8ec1-fdba599e88e5",
   "metadata": {},
   "outputs": [],
   "source": [
    "#args.labels"
   ]
  },
  {
   "cell_type": "code",
   "execution_count": 65,
   "id": "fd348ead-47b8-4cf3-9e05-023165748f8f",
   "metadata": {},
   "outputs": [
    {
     "data": {
      "text/html": [
       "<div>\n",
       "<style scoped>\n",
       "    .dataframe tbody tr th:only-of-type {\n",
       "        vertical-align: middle;\n",
       "    }\n",
       "\n",
       "    .dataframe tbody tr th {\n",
       "        vertical-align: top;\n",
       "    }\n",
       "\n",
       "    .dataframe thead th {\n",
       "        text-align: right;\n",
       "    }\n",
       "</style>\n",
       "<table border=\"1\" class=\"dataframe\">\n",
       "  <thead>\n",
       "    <tr style=\"text-align: right;\">\n",
       "      <th></th>\n",
       "      <th>track_id</th>\n",
       "      <th>full_genre_id</th>\n",
       "    </tr>\n",
       "  </thead>\n",
       "  <tbody>\n",
       "    <tr>\n",
       "      <th>39284</th>\n",
       "      <td>59906</td>\n",
       "      <td>[[12, , , ]]</td>\n",
       "    </tr>\n",
       "    <tr>\n",
       "      <th>54258</th>\n",
       "      <td>82335</td>\n",
       "      <td>[[15, 337, , ]]</td>\n",
       "    </tr>\n",
       "    <tr>\n",
       "      <th>75140</th>\n",
       "      <td>115722</td>\n",
       "      <td>[[15, 296, , ]]</td>\n",
       "    </tr>\n",
       "    <tr>\n",
       "      <th>18607</th>\n",
       "      <td>30163</td>\n",
       "      <td>[[12, 85, , ]]</td>\n",
       "    </tr>\n",
       "    <tr>\n",
       "      <th>30958</th>\n",
       "      <td>47945</td>\n",
       "      <td>[[12, 98, , ]]</td>\n",
       "    </tr>\n",
       "    <tr>\n",
       "      <th>...</th>\n",
       "      <td>...</td>\n",
       "      <td>...</td>\n",
       "    </tr>\n",
       "    <tr>\n",
       "      <th>85336</th>\n",
       "      <td>129341</td>\n",
       "      <td>[[12, 26, , ]]</td>\n",
       "    </tr>\n",
       "    <tr>\n",
       "      <th>35908</th>\n",
       "      <td>55161</td>\n",
       "      <td>[[15, 297, 240, ]]</td>\n",
       "    </tr>\n",
       "    <tr>\n",
       "      <th>3624</th>\n",
       "      <td>7011</td>\n",
       "      <td>[[15, , , ]]</td>\n",
       "    </tr>\n",
       "    <tr>\n",
       "      <th>91676</th>\n",
       "      <td>137630</td>\n",
       "      <td>[[12, 31, 101, ]]</td>\n",
       "    </tr>\n",
       "    <tr>\n",
       "      <th>8713</th>\n",
       "      <td>14824</td>\n",
       "      <td>[[15, 181, , ]]</td>\n",
       "    </tr>\n",
       "  </tbody>\n",
       "</table>\n",
       "<p>23530 rows × 2 columns</p>\n",
       "</div>"
      ],
      "text/plain": [
       "       track_id       full_genre_id\n",
       "39284     59906        [[12, , , ]]\n",
       "54258     82335     [[15, 337, , ]]\n",
       "75140    115722     [[15, 296, , ]]\n",
       "18607     30163      [[12, 85, , ]]\n",
       "30958     47945      [[12, 98, , ]]\n",
       "...         ...                 ...\n",
       "85336    129341      [[12, 26, , ]]\n",
       "35908     55161  [[15, 297, 240, ]]\n",
       "3624       7011        [[15, , , ]]\n",
       "91676    137630   [[12, 31, 101, ]]\n",
       "8713      14824     [[15, 181, , ]]\n",
       "\n",
       "[23530 rows x 2 columns]"
      ]
     },
     "execution_count": 65,
     "metadata": {},
     "output_type": "execute_result"
    }
   ],
   "source": [
    "tracks_df"
   ]
  },
  {
   "cell_type": "code",
   "execution_count": 66,
   "id": "0211e5cb-ac20-4404-a7d4-b67a31b39d06",
   "metadata": {},
   "outputs": [],
   "source": [
    "max_depth = tracks_df.full_genre_id.apply(lambda x: max([len(value) for value in x]))\n",
    "max_depth = int(max_depth.max())"
   ]
  },
  {
   "cell_type": "code",
   "execution_count": 67,
   "id": "ff0cb03c-c161-4588-9b26-7456082beec7",
   "metadata": {},
   "outputs": [
    {
     "data": {
      "text/plain": [
       "4"
      ]
     },
     "execution_count": 67,
     "metadata": {},
     "output_type": "execute_result"
    }
   ],
   "source": [
    "max_depth"
   ]
  },
  {
   "cell_type": "code",
   "execution_count": 68,
   "id": "1ce0cf1b-5bbb-47e7-80a1-092527929579",
   "metadata": {},
   "outputs": [
    {
     "data": {
      "text/plain": [
       "{'label_1': {12: 0, 15: 1},\n",
       " 'label_1_name': {12: 'Rock', 15: 'Electronic'},\n",
       " 'label_1_inverse': [12, 15],\n",
       " 'label_1_count': 2,\n",
       " 'label_2': {337: 1,\n",
       "  296: 2,\n",
       "  85: 3,\n",
       "  98: 4,\n",
       "  66: 5,\n",
       "  440: 6,\n",
       "  25: 7,\n",
       "  42: 8,\n",
       "  297: 9,\n",
       "  31: 10,\n",
       "  27: 11,\n",
       "  236: 12,\n",
       "  182: 13,\n",
       "  58: 14,\n",
       "  495: 15,\n",
       "  286: 16,\n",
       "  45: 17,\n",
       "  181: 18,\n",
       "  314: 19,\n",
       "  26: 20,\n",
       "  468: 21,\n",
       "  70: 22,\n",
       "  183: 23,\n",
       "  185: 24,\n",
       "  88: 25,\n",
       "  184: 26,\n",
       "  359: 27,\n",
       "  695: 28,\n",
       "  36: 29},\n",
       " 'label_2_name': {337: 'Electronic>Drum & Bass',\n",
       "  296: 'Electronic>Dance',\n",
       "  85: 'Rock>Garage',\n",
       "  98: 'Rock>Progressive',\n",
       "  66: 'Rock>Indie-Rock',\n",
       "  440: 'Rock>Rock Opera',\n",
       "  25: 'Rock>Punk',\n",
       "  42: 'Electronic>Ambient Electronic',\n",
       "  297: 'Electronic>Chip Music',\n",
       "  31: 'Rock>Metal',\n",
       "  27: 'Rock>Lo-Fi',\n",
       "  236: 'Electronic>IDM',\n",
       "  182: 'Electronic>House',\n",
       "  58: 'Rock>Psych-Rock',\n",
       "  495: 'Electronic>Downtempo',\n",
       "  286: 'Electronic>Trip-Hop',\n",
       "  45: 'Rock>Loud-Rock',\n",
       "  181: 'Electronic>Techno',\n",
       "  314: 'Rock>Goth',\n",
       "  26: 'Rock>Post-Rock',\n",
       "  468: 'Electronic>Dubstep',\n",
       "  70: 'Rock>Industrial',\n",
       "  183: 'Electronic>Glitch',\n",
       "  185: 'Electronic>Breakcore - Hard',\n",
       "  88: 'Rock>New Wave',\n",
       "  184: 'Electronic>Minimal Electronic',\n",
       "  359: 'Rock>Shoegaze',\n",
       "  695: 'Electronic>Jungle',\n",
       "  36: 'Rock>Krautrock'},\n",
       " 'label_2_inverse': [337,\n",
       "  296,\n",
       "  85,\n",
       "  98,\n",
       "  66,\n",
       "  440,\n",
       "  25,\n",
       "  42,\n",
       "  297,\n",
       "  31,\n",
       "  27,\n",
       "  236,\n",
       "  182,\n",
       "  58,\n",
       "  495,\n",
       "  286,\n",
       "  45,\n",
       "  181,\n",
       "  314,\n",
       "  26,\n",
       "  468,\n",
       "  70,\n",
       "  183,\n",
       "  185,\n",
       "  88,\n",
       "  184,\n",
       "  359,\n",
       "  695,\n",
       "  36],\n",
       " 'label_2_count': 30,\n",
       " 'label_3': {111: 1,\n",
       "  240: 2,\n",
       "  89: 3,\n",
       "  167: 4,\n",
       "  109: 5,\n",
       "  64: 6,\n",
       "  71: 7,\n",
       "  400: 8,\n",
       "  53: 9,\n",
       "  113: 10,\n",
       "  101: 11,\n",
       "  439: 12,\n",
       "  404: 13,\n",
       "  491: 14,\n",
       "  401: 15},\n",
       " 'label_3_name': {111: 'Rock>Punk>Power-Pop',\n",
       "  240: 'Electronic>Chip Music>Chiptune',\n",
       "  89: 'Rock>Punk>Post-Punk',\n",
       "  167: 'Rock>Metal>Black-Metal',\n",
       "  109: 'Rock>Punk>Hardcore',\n",
       "  64: 'Rock>Punk>Electro-Punk',\n",
       "  71: 'Rock>Punk>No Wave',\n",
       "  400: 'Electronic>House>Chill-out',\n",
       "  53: 'Rock>Loud-Rock>Noise-Rock',\n",
       "  113: 'Rock>Post-Rock>Space-Rock',\n",
       "  101: 'Rock>Metal>Death-Metal',\n",
       "  439: 'Rock>Metal>Grindcore',\n",
       "  404: 'Rock>Garage>Surf',\n",
       "  491: 'Electronic>Dubstep>Skweee',\n",
       "  401: 'Electronic>Techno>Bigbeat'},\n",
       " 'label_3_inverse': [111,\n",
       "  240,\n",
       "  89,\n",
       "  167,\n",
       "  109,\n",
       "  64,\n",
       "  71,\n",
       "  400,\n",
       "  53,\n",
       "  113,\n",
       "  101,\n",
       "  439,\n",
       "  404,\n",
       "  491,\n",
       "  401],\n",
       " 'label_3_count': 16,\n",
       " 'label_4': {361: 1, 90: 2},\n",
       " 'label_4_name': {361: 'Rock>Punk>Hardcore>Thrash',\n",
       "  90: 'Rock>Loud-Rock>Noise-Rock>Sludge'},\n",
       " 'label_4_inverse': [361, 90],\n",
       " 'label_4_count': 3}"
      ]
     },
     "execution_count": 68,
     "metadata": {},
     "output_type": "execute_result"
    }
   ],
   "source": [
    "args.labels"
   ]
  },
  {
   "cell_type": "code",
   "execution_count": 69,
   "id": "bc57cd19-5772-4441-b4d5-9b8c85188fa7",
   "metadata": {},
   "outputs": [
    {
     "data": {
      "text/plain": [
       "root_dir                                                   /mnt/disks/data/\n",
       "dataset_path                                  /mnt/disks/data/fma/fma_large\n",
       "embeddings                                                      music_style\n",
       "sequence_size                                                          1280\n",
       "train_id                                      hierarchical_hiclass_tworoots\n",
       "sample_size                                                               1\n",
       "job_path                  /mnt/disks/data/fma/trains/hierarchical_hiclas...\n",
       "tfrecord_path             /mnt/disks/data/fma/trains/hierarchical_hiclas...\n",
       "models_path                                          /mnt/disks/data/models\n",
       "metadata_path                              /mnt/disks/data/fma/fma_metadata\n",
       "metadata_train_path       /mnt/disks/data/fma/trains/hierarchical_hiclas...\n",
       "categories_labels_path    /mnt/disks/data/fma/trains/hierarchical_hiclas...\n",
       "max_depth                                                                 4\n",
       "labels                    {'label_1': {12: 0, 15: 1}, 'label_1_name': {1...\n",
       "dtype: object"
      ]
     },
     "execution_count": 69,
     "metadata": {},
     "output_type": "execute_result"
    }
   ],
   "source": [
    "args"
   ]
  },
  {
   "cell_type": "code",
   "execution_count": 70,
   "id": "44c7228e-4956-4133-926d-ad2f82ff8fbc",
   "metadata": {
    "scrolled": true
   },
   "outputs": [
    {
     "name": "stdout",
     "output_type": "stream",
     "text": [
      "oversampling_size: 2\n"
     ]
    },
    {
     "name": "stderr",
     "output_type": "stream",
     "text": [
      "100%|████████████████████████████████████████████████████████| 48/48 [00:00<00:00, 1309.00it/s]\n",
      "2024-04-27 12:40:38.432924: I tensorflow/core/common_runtime/gpu/gpu_device.cc:1928] Created device /job:localhost/replica:0/task:0/device:GPU:0 with 9786 MB memory:  -> device: 0, name: NVIDIA GeForce RTX 2080 Ti, pci bus id: 0000:65:00.0, compute capability: 7.5\n",
      "2024-04-27 12:40:56.897764: W tensorflow/core/framework/local_rendezvous.cc:404] Local rendezvous is aborting with status: OUT_OF_RANGE: End of sequence\n"
     ]
    },
    {
     "name": "stdout",
     "output_type": "stream",
     "text": [
      "0 1903 /mnt/disks/data/fma/trains/hierarchical_hiclass_tworoots/tfrecords/val/0000000000.tfrecord\n",
      "1/1 batchs / 51200 processed\n",
      "1/1 batchs / 1903 processed\n",
      "0 4726 /mnt/disks/data/fma/trains/hierarchical_hiclass_tworoots/tfrecords/test/0000000000.tfrecord\n",
      "1/1 batchs / 51200 processed\n",
      "1/1 batchs / 4726 processed\n",
      "0 16900 /mnt/disks/data/fma/trains/hierarchical_hiclass_tworoots/tfrecords/train/0000000000.tfrecord\n",
      "1/1 batchs / 51200 processed\n",
      "1/1 batchs / 16900 processed\n"
     ]
    }
   ],
   "source": [
    "split_dataset(tracks_df, args)"
   ]
  },
  {
   "cell_type": "code",
   "execution_count": null,
   "id": "e959d04e-7af2-44ae-b6a7-38bcb508fc37",
   "metadata": {},
   "outputs": [],
   "source": []
  },
  {
   "cell_type": "code",
   "execution_count": null,
   "id": "2da38cd4-f7d1-4548-aa68-b1a1d2d28a3b",
   "metadata": {},
   "outputs": [],
   "source": []
  }
 ],
 "metadata": {
  "kernelspec": {
   "display_name": "Python 3 (ipykernel)",
   "language": "python",
   "name": "python3"
  },
  "language_info": {
   "codemirror_mode": {
    "name": "ipython",
    "version": 3
   },
   "file_extension": ".py",
   "mimetype": "text/x-python",
   "name": "python",
   "nbconvert_exporter": "python",
   "pygments_lexer": "ipython3",
   "version": "3.11.5"
  }
 },
 "nbformat": 4,
 "nbformat_minor": 5
}
